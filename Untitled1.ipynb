{
  "nbformat": 4,
  "nbformat_minor": 0,
  "metadata": {
    "colab": {
      "provenance": [],
      "authorship_tag": "ABX9TyO3RkrQYDrC15ii63CMQMlQ",
      "include_colab_link": true
    },
    "kernelspec": {
      "name": "python3",
      "display_name": "Python 3"
    },
    "language_info": {
      "name": "python"
    }
  },
  "cells": [
    {
      "cell_type": "markdown",
      "metadata": {
        "id": "view-in-github",
        "colab_type": "text"
      },
      "source": [
        "<a href=\"https://colab.research.google.com/github/RowanWA/Prediction-code/blob/main/Untitled1.ipynb\" target=\"_parent\"><img src=\"https://colab.research.google.com/assets/colab-badge.svg\" alt=\"Open In Colab\"/></a>"
      ]
    },
    {
      "cell_type": "markdown",
      "source": [
        "# Formula"
      ],
      "metadata": {
        "id": "OjscoezLB1N4"
      }
    },
    {
      "cell_type": "code",
      "execution_count": 4,
      "metadata": {
        "id": "LwIpV5IDBdbF",
        "colab": {
          "base_uri": "https://localhost:8080/"
        },
        "outputId": "bcee8a67-845a-4f60-b26d-b795067ee63f"
      },
      "outputs": [
        {
          "output_type": "stream",
          "name": "stdout",
          "text": [
            "y = tensor([390., 450.])\n",
            "A = tensor([[17.,  1.],\n",
            "        [20.,  1.]])\n",
            "b = tensor([1., 3.])\n",
            "w = tensor([19.3333, 60.3336])\n"
          ]
        }
      ],
      "source": [
        "import torch\n",
        "\n",
        "y = torch.tensor([390.,450])\n",
        "\n",
        "A = torch.tensor([[17.,1],[20.,1]])\n",
        "\n",
        "b = torch.tensor([1.,3])\n",
        "\n",
        "print (f\"y = {y}\")\n",
        "print (f\"A = {A}\")\n",
        "print (f\"b = {b}\")\n",
        "\n",
        "inverse = torch.inverse(A)\n",
        "\n",
        "w = torch.matmul(inverse,y - b)\n",
        "\n",
        "print (f\"w = {w}\")"
      ]
    },
    {
      "cell_type": "markdown",
      "source": [
        "# Prediction"
      ],
      "metadata": {
        "id": "yhcPrGfFERKb"
      }
    },
    {
      "cell_type": "code",
      "source": [
        "def predictionFunction(age, ADHD, yearsPlayed):\n",
        "  expectedCoins = age * w[0].item() + ADHD * w[1].item() + yearsPlayed\n",
        "  print(f\"we expect the player to obtain {expectedCoins}\")\n",
        "\n",
        "predictionFunction(35,0,0)"
      ],
      "metadata": {
        "colab": {
          "base_uri": "https://localhost:8080/"
        },
        "id": "nDKh_UqdEWcn",
        "outputId": "3848c718-ca2e-4d96-b961-b64e60cc49ab"
      },
      "execution_count": 8,
      "outputs": [
        {
          "output_type": "stream",
          "name": "stdout",
          "text": [
            "we expect the player to obtain 676.6661548614502\n"
          ]
        }
      ]
    }
  ]
}